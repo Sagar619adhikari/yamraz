{
 "cells": [
  {
   "cell_type": "markdown",
   "id": "2ecd70dc-673c-4f36-9614-173cf12d033b",
   "metadata": {},
   "source": [
    "# Problem Statement\n",
    "\n",
    "We want to build an online shopping cart system that allows users to add products to their cart, calculate the total cost, apply discounts, and generate an invoice. The system should include the following functionalities:\n",
    "\n",
    "- Adding products to the cart\n",
    "- Removing products from the cart\n",
    "- Calculating the total cost\n",
    "- Applying discounts based on user type\n",
    "- Generating an invoice\n",
    "\n",
    "### 1. Create the Product class\n",
    "\n",
    "We create a basic `Product` class with attributes for the product name and price."
   ]
  },
  {
   "cell_type": "code",
   "execution_count": 1,
   "id": "37da8fe7-993b-45d8-90ce-cd7f80aeb410",
   "metadata": {},
   "outputs": [],
   "source": [
    "class Product:\n",
    "    def __init__(self,product_name,product_price):\n",
    "        self.product_name=product_name\n",
    "        self.product_price=product_price\n",
    "        "
   ]
  },
  {
   "cell_type": "markdown",
   "id": "0e4adb7a-3357-48f2-a6e6-6357fa4bb9ce",
   "metadata": {},
   "source": [
    "### 2.  Implement the User class\n",
    "\n",
    "In this step, we create a `User` class with attributes for the user's name and whether they are a premium member. We then modify the `calculate_total_cost` method in the `ShoppingCart` class to apply a `10%` discount for premium users."
   ]
  },
  {
   "cell_type": "code",
   "execution_count": 2,
   "id": "0a6d3e96-f62a-4d12-89d0-db2fa7ad982b",
   "metadata": {},
   "outputs": [],
   "source": [
    "class User:\n",
    "    def __init__(self,user_name,is_premium_member=False):\n",
    "        self.user_name=user_name\n",
    "        self.is_premium_member=is_premium_member"
   ]
  },
  {
   "cell_type": "markdown",
   "id": "7723f428-2d18-48fb-8ef2-91bc79915f43",
   "metadata": {},
   "source": [
    "### 3. Create the ShoppingCart class\n",
    "\n",
    "In this step, we create a `ShoppingCart` class with methods for adding and removing products from the cart, as well as calculating the total cost of the items in the cart."
   ]
  },
  {
   "cell_type": "code",
   "execution_count": 52,
   "id": "5683ceb5-f5c0-42d7-88a4-b22d5ef34d77",
   "metadata": {},
   "outputs": [],
   "source": [
    "def discount_10_percent(func):\n",
    "    def wrapper(self,*args,**kwargs):\n",
    "        total_cost=func(self,*args,**kwargs)\n",
    "        if self.user.is_premium_member:\n",
    "            total_cost=total_cost-(0.1*total_cost)\n",
    "        return total_cost\n",
    "    return wrapper\n",
    "class ShoppingCart:\n",
    "    def __init__(self,user):\n",
    "        self.user=user\n",
    "        self.products=[]\n",
    "    def adding_product(self,product_name):\n",
    "        self.products.append(product_name)\n",
    "    def removing_product(self,product_name):\n",
    "        self.products= [p for p in  self.products if p.product_name != self.products]\n",
    "    @discount_10_percent\n",
    "    def calculate_total_cost(self):\n",
    "        \n",
    "        \n",
    "        total_cost= sum(product.product_price for product in self.products)\n",
    "        if self.user.is_premium_member:\n",
    "                discount = 0.1 * total_cost\n",
    "        else:\n",
    "                discount = 0\n",
    "                total_cost=total_cost-discount\n",
    "        return total_cost\n",
    "\n",
    "                \n",
    "        "
   ]
  },
  {
   "cell_type": "markdown",
   "id": "ec3021e9-b897-4414-b600-17b929fabc59",
   "metadata": {},
   "source": [
    "### 4. Testing the functionality\n",
    "\n",
    "Now that we have implemented the necessary classes and methods, let's test our online shopping cart system:"
   ]
  },
  {
   "cell_type": "code",
   "execution_count": 53,
   "id": "66f19a60-6bfb-495c-b34b-da4c765334ee",
   "metadata": {},
   "outputs": [
    {
     "name": "stdout",
     "output_type": "stream",
     "text": [
      "Total Cost: 1485.0\n"
     ]
    }
   ],
   "source": [
    "    product1=Product(\"glass\",750)\n",
    "    product2=Product(\"cap\",600)\n",
    "    product3=Product(\"apple\",300)\n",
    "    user=User(\"Yamraz\",True)\n",
    "    cart=ShoppingCart(user)\n",
    "    cart.adding_product(product1)\n",
    "    cart.adding_product(product2)\n",
    "    cart.adding_product(product3)\n",
    "    total_cost = cart.calculate_total_cost()\n",
    "    print(\"Total Cost:\", total_cost)"
   ]
  },
  {
   "cell_type": "markdown",
   "id": "f98354e1-cfea-4d1c-89ea-d57b3b01ef33",
   "metadata": {},
   "source": [
    "### 5. Generating Invoice for a given cart"
   ]
  },
  {
   "cell_type": "code",
   "execution_count": 60,
   "id": "c1d3c5db-8e33-4dab-a578-f910d2b43b2e",
   "metadata": {},
   "outputs": [
    {
     "name": "stdout",
     "output_type": "stream",
     "text": [
      "               Generating Invoice   \n",
      "             Yamlok Wostru Madhyam\n",
      "----------------------------------------\n",
      " Customer name : Yamraz\n",
      "glass  :  750\n",
      "cap  :  600\n",
      "apple  :  300\n",
      "Total Cost : 1485.0\n",
      "Discount   : 30.0\n",
      "Cost After Discount : 1485.0\n",
      "----------------------------------------\n",
      "------------ Thank You------------\n"
     ]
    }
   ],
   "source": [
    "cart.calculate_total_cost()\n",
    "print(\"               Generating Invoice   \")\n",
    "print(\"             Yamlok Wostru Madhyam\")\n",
    "print(f\"{'-' *40}\")\n",
    "print(f\" Customer name : {user.user_name}\")\n",
    "for product in cart.products:\n",
    "    print(f\"{product.product_name}  :  {product.product_price}\")\n",
    "print(f\"Total Cost : { total_cost}\")\n",
    "print(f\"Discount   : {0.1 * product.product_price if user.is_premium_member else 0}\")\n",
    "print(f\"Cost After Discount : {total_cost}\")\n",
    "print(f\"{'-' *40}\")\n",
    "print(f\"{'-' *12} Thank You{'-' *12}\")\n",
    "\n"
   ]
  },
  {
   "cell_type": "code",
   "execution_count": null,
   "id": "71752eba-68b6-41f5-9fdc-3387c83d2e50",
   "metadata": {},
   "outputs": [],
   "source": []
  },
  {
   "cell_type": "code",
   "execution_count": null,
   "id": "59473152-075f-43cc-98f0-3411072ac426",
   "metadata": {},
   "outputs": [],
   "source": []
  }
 ],
 "metadata": {
  "kernelspec": {
   "display_name": "Python 3 (ipykernel)",
   "language": "python",
   "name": "python3"
  },
  "language_info": {
   "codemirror_mode": {
    "name": "ipython",
    "version": 3
   },
   "file_extension": ".py",
   "mimetype": "text/x-python",
   "name": "python",
   "nbconvert_exporter": "python",
   "pygments_lexer": "ipython3",
   "version": "3.12.2"
  }
 },
 "nbformat": 4,
 "nbformat_minor": 5
}
