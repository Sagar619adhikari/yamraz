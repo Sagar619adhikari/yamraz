{
 "cells": [
  {
   "cell_type": "code",
   "execution_count": 14,
   "id": "2ec119e7-0f14-4ceb-aefc-706d20be0b38",
   "metadata": {},
   "outputs": [
    {
     "name": "stdout",
     "output_type": "stream",
     "text": [
      "[[ 3 35]\n",
      " [21 16]]\n"
     ]
    }
   ],
   "source": [
    "import numpy as np\n",
    "import random\n",
    "arr= np.random.randint(low=1 , high = 50 ,size=(2,2))\n",
    "print(arr)"
   ]
  },
  {
   "cell_type": "code",
   "execution_count": 15,
   "id": "ec6def66-7a62-4cbd-8fbc-b818712542ad",
   "metadata": {},
   "outputs": [
    {
     "name": "stdout",
     "output_type": "stream",
     "text": [
      "[ 2  3 45  2  1]\n"
     ]
    }
   ],
   "source": [
    "list1=[2,3,45,2,1]\n",
    "array1=np.array(list1)\n",
    "print(array1)"
   ]
  },
  {
   "cell_type": "markdown",
   "id": "2fb1eab2-d806-4287-b8b1-05a686a08fb7",
   "metadata": {},
   "source": [
    "## 2D"
   ]
  },
  {
   "cell_type": "code",
   "execution_count": 17,
   "id": "7c16a6f1-c6f5-4fc7-8f12-8600ab45075b",
   "metadata": {},
   "outputs": [
    {
     "name": "stdout",
     "output_type": "stream",
     "text": [
      "[[1 2 3]\n",
      " [4 5 6]]\n"
     ]
    }
   ],
   "source": [
    "list2=[[1,2,3],[4,5,6]]\n",
    "array2=np.array(list2)\n",
    "print(array2)"
   ]
  },
  {
   "cell_type": "markdown",
   "id": "361e9939-bd59-4a6b-801a-861e36f8cb8b",
   "metadata": {},
   "source": [
    "### 3D"
   ]
  },
  {
   "cell_type": "code",
   "execution_count": 19,
   "id": "f8c8b67b-231c-4ee8-a748-db2dd7bdf677",
   "metadata": {},
   "outputs": [
    {
     "name": "stdout",
     "output_type": "stream",
     "text": [
      "[[1 2 3]\n",
      " [4 5 6]\n",
      " [7 8 9]]\n"
     ]
    }
   ],
   "source": [
    "list3=[[1,2,3],[4,5,6],[7,8,9]]\n",
    "array3=np.array(list3)\n",
    "print(array3)\n"
   ]
  },
  {
   "cell_type": "code",
   "execution_count": 20,
   "id": "ada231da-19a9-4e5a-981a-d86d1b239fa8",
   "metadata": {},
   "outputs": [
    {
     "data": {
      "text/plain": [
       "(3, 3)"
      ]
     },
     "execution_count": 20,
     "metadata": {},
     "output_type": "execute_result"
    }
   ],
   "source": [
    "array3.shape"
   ]
  },
  {
   "cell_type": "code",
   "execution_count": 21,
   "id": "12f9a477-68e8-4cd5-b1dd-282f81c9d76f",
   "metadata": {},
   "outputs": [
    {
     "data": {
      "text/plain": [
       "3"
      ]
     },
     "execution_count": 21,
     "metadata": {},
     "output_type": "execute_result"
    }
   ],
   "source": [
    "array3[0][2]"
   ]
  },
  {
   "cell_type": "code",
   "execution_count": 22,
   "id": "264d68c2-cb71-44ca-ac11-b03a4cf49a17",
   "metadata": {},
   "outputs": [
    {
     "data": {
      "text/plain": [
       "2"
      ]
     },
     "execution_count": 22,
     "metadata": {},
     "output_type": "execute_result"
    }
   ],
   "source": [
    "array3.ndim"
   ]
  },
  {
   "cell_type": "code",
   "execution_count": 24,
   "id": "85da6e3b-a5ec-44b3-ace5-a258ce21774f",
   "metadata": {},
   "outputs": [
    {
     "name": "stdout",
     "output_type": "stream",
     "text": [
      "[[[15  4  3 16]\n",
      "  [15  8 14  8]\n",
      "  [15  8  3  4]]\n",
      "\n",
      " [[ 2  7 13 15]\n",
      "  [ 9  7 12  8]\n",
      "  [ 4 19  8 18]]]\n"
     ]
    }
   ],
   "source": [
    "random_array=np.random.randint(low=2,high=20,size=(2,3,4))\n",
    "print(random_array)\n"
   ]
  },
  {
   "cell_type": "code",
   "execution_count": 27,
   "id": "14c8bf98-eb31-4967-9822-7dcf6c6657b7",
   "metadata": {},
   "outputs": [
    {
     "data": {
      "text/plain": [
       "8"
      ]
     },
     "execution_count": 27,
     "metadata": {},
     "output_type": "execute_result"
    }
   ],
   "source": [
    "random_array[1,2,2]"
   ]
  },
  {
   "cell_type": "code",
   "execution_count": 29,
   "id": "0ab3bb2a-84d2-481a-8ad7-17f91c2c53a0",
   "metadata": {},
   "outputs": [
    {
     "data": {
      "text/plain": [
       "7"
      ]
     },
     "execution_count": 29,
     "metadata": {},
     "output_type": "execute_result"
    }
   ],
   "source": [
    "random_array[-1,1,1]"
   ]
  },
  {
   "cell_type": "code",
   "execution_count": 31,
   "id": "a9697056-3578-4799-b8ee-f0b08f4880e8",
   "metadata": {},
   "outputs": [
    {
     "data": {
      "text/plain": [
       "19"
      ]
     },
     "execution_count": 31,
     "metadata": {},
     "output_type": "execute_result"
    }
   ],
   "source": [
    "random_array[-1,-1,1]"
   ]
  },
  {
   "cell_type": "code",
   "execution_count": null,
   "id": "daabf83b-dfab-4b26-9559-ae895719cf13",
   "metadata": {},
   "outputs": [],
   "source": []
  },
  {
   "cell_type": "markdown",
   "id": "8fb6ce25-10f6-4e62-9c0b-e7192529b3db",
   "metadata": {},
   "source": [
    "## Slicing Numpy array"
   ]
  },
  {
   "cell_type": "markdown",
   "id": "cb7d5c6c-0c40-41aa-9ea3-df2cadf36bd2",
   "metadata": {},
   "source": [
    "## 1D"
   ]
  },
  {
   "cell_type": "code",
   "execution_count": 34,
   "id": "f1368557-5ba2-4229-90ac-7fcb04c71dff",
   "metadata": {},
   "outputs": [
    {
     "data": {
      "text/plain": [
       "array([], shape=(0, 3, 4), dtype=int32)"
      ]
     },
     "execution_count": 34,
     "metadata": {},
     "output_type": "execute_result"
    }
   ],
   "source": [
    "random_array[1:1]"
   ]
  },
  {
   "cell_type": "code",
   "execution_count": 6,
   "id": "703de9d8-7e89-4735-b4e4-3ef14e82325f",
   "metadata": {},
   "outputs": [
    {
     "name": "stdout",
     "output_type": "stream",
     "text": [
      "[[1 2 3 4 5]\n",
      " [4 5 6 7 8]]\n"
     ]
    }
   ],
   "source": [
    "import numpy as np\n",
    "list4 = [[1,2,3,4,5],[4,5,6,7,8]]\n",
    "slicing_list=np.array(list4)\n",
    "print(slicing_list)"
   ]
  },
  {
   "cell_type": "code",
   "execution_count": 8,
   "id": "b2042e03-0122-48d0-aaf7-ff30a0ecb933",
   "metadata": {},
   "outputs": [
    {
     "data": {
      "text/plain": [
       "array([6, 7])"
      ]
     },
     "execution_count": 8,
     "metadata": {},
     "output_type": "execute_result"
    }
   ],
   "source": [
    "slicing_list[1,2:4]"
   ]
  },
  {
   "cell_type": "code",
   "execution_count": 9,
   "id": "9d59387d-ee24-4b9a-a234-8e95817ee499",
   "metadata": {},
   "outputs": [
    {
     "data": {
      "text/plain": [
       "(2, 5)"
      ]
     },
     "execution_count": 9,
     "metadata": {},
     "output_type": "execute_result"
    }
   ],
   "source": [
    "slicing_list.shape"
   ]
  },
  {
   "cell_type": "code",
   "execution_count": 11,
   "id": "8c0b3f66-2a6d-4e03-a906-21a3894fe930",
   "metadata": {},
   "outputs": [
    {
     "data": {
      "text/plain": [
       "array([[5, 6, 7]])"
      ]
     },
     "execution_count": 11,
     "metadata": {},
     "output_type": "execute_result"
    }
   ],
   "source": [
    "slicing_list[1:,1:4]"
   ]
  },
  {
   "cell_type": "markdown",
   "id": "fb1eed0a-aa43-4da1-a6ce-ec17c75188cd",
   "metadata": {},
   "source": [
    "## 3D"
   ]
  },
  {
   "cell_type": "code",
   "execution_count": 13,
   "id": "cb74f2cd-f6d7-4f59-ab1f-9bd702e4f382",
   "metadata": {},
   "outputs": [
    {
     "name": "stdout",
     "output_type": "stream",
     "text": [
      "[[[17 17 19 19]\n",
      "  [26 47 41 38]\n",
      "  [27 31 47 21]]\n",
      "\n",
      " [[27 10 27 16]\n",
      "  [13 42 20 40]\n",
      "  [27 36 29 47]]\n",
      "\n",
      " [[14 32 49 44]\n",
      "  [39 29 13 39]\n",
      "  [14 24 20 47]]\n",
      "\n",
      " [[36 28 18 32]\n",
      "  [10 18 39 24]\n",
      "  [33 25 41 15]]]\n"
     ]
    }
   ],
   "source": [
    "random_arr=np.random.randint(low=10, high=50, size=(4,3,4))\n",
    "print(random_arr)"
   ]
  },
  {
   "cell_type": "code",
   "execution_count": 30,
   "id": "5e013d7d-efa3-4d68-9604-30c7db542c18",
   "metadata": {},
   "outputs": [
    {
     "ename": "AttributeError",
     "evalue": "'numpy.ndarray' object has no attribute 'type'",
     "output_type": "error",
     "traceback": [
      "\u001b[1;31m---------------------------------------------------------------------------\u001b[0m",
      "\u001b[1;31mAttributeError\u001b[0m                            Traceback (most recent call last)",
      "Cell \u001b[1;32mIn[30], line 1\u001b[0m\n\u001b[1;32m----> 1\u001b[0m slicing_arr\u001b[38;5;241m=\u001b[39m\u001b[43mnp\u001b[49m\u001b[38;5;241;43m.\u001b[39;49m\u001b[43marray\u001b[49m\u001b[43m(\u001b[49m\u001b[43mrandom_arr\u001b[49m\u001b[43m)\u001b[49m\u001b[38;5;241;43m.\u001b[39;49m\u001b[43mtype\u001b[49m\n\u001b[0;32m      2\u001b[0m slicing_arr[\u001b[38;5;241m-\u001b[39m\u001b[38;5;241m2\u001b[39m:,:\u001b[38;5;241m2\u001b[39m,\u001b[38;5;241m-\u001b[39m\u001b[38;5;241m2\u001b[39m::]\n",
      "\u001b[1;31mAttributeError\u001b[0m: 'numpy.ndarray' object has no attribute 'type'"
     ]
    }
   ],
   "source": [
    "slicing_arr=np.array(random_arr).type\n",
    "slicing_arr[-2:,:2,-2::]"
   ]
  },
  {
   "cell_type": "code",
   "execution_count": null,
   "id": "6531a3b4-1f7f-4c4f-86ab-cdffe041c3ac",
   "metadata": {},
   "outputs": [],
   "source": []
  }
 ],
 "metadata": {
  "kernelspec": {
   "display_name": "Python 3 (ipykernel)",
   "language": "python",
   "name": "python3"
  },
  "language_info": {
   "codemirror_mode": {
    "name": "ipython",
    "version": 3
   },
   "file_extension": ".py",
   "mimetype": "text/x-python",
   "name": "python",
   "nbconvert_exporter": "python",
   "pygments_lexer": "ipython3",
   "version": "3.12.2"
  }
 },
 "nbformat": 4,
 "nbformat_minor": 5
}
